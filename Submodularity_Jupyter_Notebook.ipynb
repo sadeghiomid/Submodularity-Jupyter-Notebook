{
 "cells": [
  {
   "cell_type": "code",
   "execution_count": 1,
   "metadata": {},
   "outputs": [],
   "source": [
    "import numpy as np\n",
    "import cvxpy as cp\n",
    "import matplotlib.pyplot as plt\n",
    "import seaborn as sns\n",
    "import scipy as sp\n",
    "from random import randint\n",
    "import math"
   ]
  },
  {
   "cell_type": "markdown",
   "metadata": {},
   "source": [
    "# Submodular Maximization"
   ]
  },
  {
   "cell_type": "markdown",
   "metadata": {},
   "source": [
    "## Submodular Set Functions\n",
    "Submodular set functions are the class of discrete functions that exhibit the Diminishing Returns (DR) property. To be precise, consider a ground set $V$ and a set function $f$ defined over the subsets of $V$. $f$ is called submodular if for item $j\\in V$ and any two sets $A$ and $B$ such that $A\\subseteq B\\subseteq V\\setminus \\{j\\}$, we have:\n",
    "$$ \n",
    "f(A\\cup \\{j\\})-f(A)\\geq f(B\\cup \\{j\\})-f(B).\n",
    "$$\n",
    "In other words, the marginal gain of adding a certain item to the set diminishes as the set grows larger.  \n",
    "As an example, let $V$ be the set of locations in space where we can place sensors and assume that placing a sensor in a place covers a circular area around it. In this example, $f(S):S\\subseteq V$ denotes the total area covered by sensors placed at locations $S$.  \n",
    "\n",
    "<img src=\"./sensor.png\"/>\n",
    "\n",
    "We can define submodular set functions in the following equivalent way as well: $f$ is submodular if for any two sets $A,B\\subseteq V$, the following holds:\n",
    "$$\n",
    "f(A)+f(B)\\geq f(A\\cup B)+f(A\\cap B).\n",
    "$$"
   ]
  },
  {
   "cell_type": "markdown",
   "metadata": {},
   "source": [
    "## Applications\n",
    "Submodular set functions play a significant role in combinatorial optimization as many well known combinatorial functions are indeed submodular. A few examples are:\n",
    "- Cut functions of graphs and hypergraphs \n",
    "- Rank functions of matroids \n",
    "- Covering functions  \n",
    "\n",
    "Moreover, submodularity has been identified and utilized in applications such as viral marketing, feature selection for classification, image segmentation and document summarization."
   ]
  },
  {
   "cell_type": "markdown",
   "metadata": {},
   "source": [
    "<a id=\"MlE\"></a>\n",
    "## Multilinear Extension\n",
    "The multilinear extension $F:[0,1]^V \\rightarrow \\mathbb{R}$ of $f$ is defined as\n",
    "$$\n",
    "F(x)=\\sum_{S\\subset V}f(S)\\prod_{i\\in S}x_i \\prod_{j\\notin S}(1-x_j)=\\mathbb{E}_{S\\sim x}[f(S)].\n",
    "$$\n",
    "For example, consider the set function $f(x_1,x_2,x_3)=2x_1+3x_2+x_3-x_1x_2-2x_2x_3$ where $x_i\\in \\{0,1\\};i=1,2,3$ indicates whether the $i$-th item is in the set. The multilinear extension of $f$ is $F(x_1,x_2,x_3)=2x_1+3x_2+x_3-x_1x_2-2x_2x_3$ for $x_i\\in [0,1];i=1,2,3$. We can see below that $F$ is neither convex or concave. In particular, if we choose $z_1=(0.5,0.5,0.5)$, $v_1=(0.5,-0.5,0)$, $z_2=(0,0,0)$ and $v_2=(1,1,1)$, $F(z_1+tv_1)$ and $F(z_2+tv_2)$ are convex and concave respectively as a function of $t\\in[0,1]$."
   ]
  },
  {
   "cell_type": "code",
   "execution_count": 2,
   "metadata": {},
   "outputs": [
    {
     "data": {
      "text/plain": [
       "[<matplotlib.lines.Line2D at 0x200d9e4d970>]"
      ]
     },
     "execution_count": 2,
     "metadata": {},
     "output_type": "execute_result"
    },
    {
     "data": {
      "image/png": "[encoded data removed]",
      "text/plain": [
       "<Figure size 432x288 with 2 Axes>"
      ]
     },
     "metadata": {
      "needs_background": "light"
     },
     "output_type": "display_data"
    }
   ],
   "source": [
    "z1=np.array([0.5,0.5,0.5])\n",
    "v1=np.array([0.5,-0.5,0])\n",
    "z2=np.zeros(3)\n",
    "v2=np.ones(3)\n",
    "def F(x):\n",
    "    return 2*x[0]+3*x[1]+x[2]-x[0]*x[1]-2*x[1]*x[2]\n",
    "T=np.linspace(0,1,100)\n",
    "F1=np.zeros(100)\n",
    "F2=np.zeros(100)\n",
    "for i in range(100):\n",
    "    F1[i]=F(z1+T[i]*v1)\n",
    "    F2[i]=F(z2+T[i]*v2)\n",
    "plt.subplot(1,2,1)\n",
    "plt.tight_layout(pad=4.0)\n",
    "plt.plot(T,F1,color='blue')\n",
    "plt.xlabel('$t$')\n",
    "plt.ylabel('$F(z_1+tv_1)$')\n",
    "plt.subplot(1,2,2)\n",
    "plt.xlabel('$t$')\n",
    "plt.ylabel('$F(z_2+tv_2)$')\n",
    "plt.plot(T,F2,color='red')"
   ]
  },
  {
   "cell_type": "markdown",
   "metadata": {},
   "source": [
    "In general, multilinear extension of submodular set functions are concave along non-negative directions, i.e., $F(x+tv)$ is a concave function of $t$ if $v$ in entry-wise non-negative (or non-positive). This property is particularly useful in the design of continuous algorithms for maximizing multilinear extension of submodular set functions."
   ]
  },
  {
   "cell_type": "markdown",
   "metadata": {},
   "source": [
    "## Monotone Submodular Maximization Algorithms\n",
    "In this notebook, we focus on submodular set functions that are monotone, i.e., for $A\\subseteq B\\subseteq V$, $f(A)\\leq f(B)$ holds. It is easy to see that unconstrained monotone submodular maximization problems $\\max_{S\\subseteq V}f(S)$ are trivial because adding more items to the set always increases the objective value and therefore, $\\max_{S\\subseteq V}f(S)=f(V)$ always holds.   \n",
    "We study constrained monotone submodular maximization problems under two common constraints: \n",
    "- Cardinality (size) constraint\n",
    "- Matroid constraint"
   ]
  },
  {
   "cell_type": "markdown",
   "metadata": {},
   "source": [
    "### Monotone Submodular Maximization Under Cardinality Constraint\n",
    "Consider the optimization problem $\\max_{S\\subseteq V:|S|\\leq k}f(S)$ where $k<|V|$ is the maximium size of feasible sets. We study the greedy algorithm for solving this problem. The algorithm works as follows:  \n",
    "> Set $S=\\emptyset$ and $U=V$.  \n",
    "> for all $i=1,\\dots,k$:\n",
    "\n",
    ">> choose $v_i=arg\\max_{j\\in U}\\big(f(S\\cup \\{j\\})-f(S)\\big)$.  \n",
    ">> Set $S=S\\cup \\{v_i\\}$ and $U=U\\setminus \\{v_i\\}$.   \n",
    "\n",
    "> end for    \n",
    "> Output $S$.\n",
    "\n",
    "At each step $i\\in\\{1,\\dots,k\\}$, the greedy algorithm simply computes the marginal gain of adding each of the remaining items to the current set, and chooses the item $v_i$ with the highest marginal gain. [Nemhauser et al.](https://link.springer.com/article/10.1007/BF01588971) showed that the greedy algorithm obtains the approximation ratio $1-\\frac{1}{e}$ for monotone submodular maximization subject to cardinality constraints and they also proved matching lower bounds for the approximation guarantee."
   ]
  },
  {
   "cell_type": "markdown",
   "metadata": {},
   "source": [
    "#### Implementation\n",
    "In the example below, we define each item $v\\in V$ to be a random subset of $\\{1,\\dots,50\\}$ and we set $f(S)=|\\cup_{v \\in S}v|$. It is easy to see that $f$ is a monotone submodular set function. We set the cardinality constraint $k=9$ and we plot the objective value during the executation of the algorithm."
   ]
  },
  {
   "cell_type": "code",
   "execution_count": 3,
   "metadata": {},
   "outputs": [
    {
     "data": {
      "text/plain": [
       "Text(0, 0.5, '$f(S)$')"
      ]
     },
     "execution_count": 3,
     "metadata": {},
     "output_type": "execute_result"
    },
    {
     "data": {
      "image/png": "[encoded data removed]",
      "text/plain": [
       "<Figure size 432x288 with 1 Axes>"
      ]
     },
     "metadata": {
      "needs_background": "light"
     },
     "output_type": "display_data"
    }
   ],
   "source": [
    "V=[]\n",
    "k=9\n",
    "def f(S):\n",
    "    return len(S)\n",
    "\n",
    "for s in range(50):\n",
    "    V.append(set([randint(1,50) for j in range(5)]))\n",
    "val=np.zeros(k)\n",
    "S=set()\n",
    "U=V\n",
    "for i in range(k):\n",
    "    j=np.argmax([f(S.union(U[s])) for s in range(len(U))])\n",
    "    S=S.union(U[j])\n",
    "    val[i]=f(S)\n",
    "    U.pop(j)\n",
    "plt.plot(range(1,k+1),val)\n",
    "plt.xlabel('$i$')\n",
    "plt.ylabel('$f(S)$')"
   ]
  },
  {
   "cell_type": "markdown",
   "metadata": {},
   "source": [
    "### Monotone Submodular Maximization Under Matroid Constraint\n",
    "While the greedy algorithm is able to obtain the provably optimal $1-\\frac{1}{e}$ approximation for monotone submodular set function maximization subject to cardinality constraint, this result does not extend to more general constraints. To see this, let's first define matroids. A matroid $\\mathcal{M}$ is a pair $\\mathcal{M}=(V,\\mathcal{I})$, where $V$ is the ground set and $\\mathcal{I}$ is a collection of subsets of $V$ called the independent sets, that satisfies the following properties:\n",
    "1) $\\emptyset \\in \\mathcal{I}$.\n",
    "2) For $S'\\subset S \\subset V$, if $S\\in \\mathcal{I}$, then $S'\\in \\mathcal{I}$ holds. \n",
    "3) For $S,S'\\in \\mathcal{I}$, if $|S|>|S'|$, there exists $v\\in S\\setminus S'$ such that $S'\\cup \\{v\\}\\in \\mathcal{I}$.\n",
    "\n",
    "As an example, the cardinality constraint is a special case of a matroid constraint with independent sets $\\mathcal{I}=\\{S\\subseteq V:|S|\\leq k\\}$.\n",
    "\n",
    "The greedy algorithm applied to monotone submodular maximization subject to a matroid constraint only manages to achieve a $\\frac{1}{2}$ approximation ratio. Therefore, we study a *continuous* algorithm, called the [**Continuous Greedy**](https://epubs.siam.org/doi/10.1137/080733991) algorithm, that is applied to the multilinear extension of the submodular set function and produces a fractional solution with the optimal approximation ratio $1-\\frac{1}{e}$. Combining the continuous greedy algorithm and lossless rounding techniques such as [pipage rounding](https://www.google.com/url?sa=t&rct=j&q=&esrc=s&source=web&cd=&ved=2ahUKEwjv0P-UwfzzAhUDrp4KHShVA1kQFnoECAUQAQ&url=http%3A%2F%2Fwww.cs.toronto.edu%2Ftss%2Ffiles%2Fpapers%2FAgeev-Sviridenko2004_Article_PipageRoundingANewMethodOfCons.pdf&usg=AOvVaw07QGri7Hlfz8iKR0r3I1rI) or [swap rounding](https://theory.stanford.edu/~jvondrak/data/matroid-rounding.pdf), we can output a set with similar performance guarantee.\n",
    "\n",
    "Consider the optimization problem $\\max_{S\\in \\mathcal{I}}f(S)$ where $\\mathcal{I}$ is the collection of the independent sets of the matroid $\\mathcal{M}=(V,\\mathcal{I})$. The matroid polytope corresponding to the matroid $\\mathcal{M}$ is defined as\n",
    "$$\n",
    "P(\\mathcal{M})={\\rm conv}\\{1_I:I\\in \\mathcal{I}\\}=\\{x\\succeq 0:\\sum_{s\\in S}x_s\\leq r_{\\mathcal{M}}(S),~\\forall S\\subset V\\},\n",
    "$$ \n",
    "where the rank function $r_{\\mathcal{M}}:2^V\\to \\mathbb{Z}_+$ is $r_{\\mathcal{M}}(S)=\\max \\{|I|:I\\subseteq S,I\\in \\mathcal{I}\\}$ and conv denotes the convex hull. We define ${\\rm rank}(\\mathcal{M})=r_{\\mathcal{M}}(V)$ as the rank of the matroid $\\mathcal{M}$. For the special case of the cardinality constraint, rank of the matroid equals the size $k$."
   ]
  },
  {
   "cell_type": "markdown",
   "metadata": {},
   "source": [
    "We consider the continuous counterpart $\\max_{x\\in P(\\mathcal{M})}F(x)$ of the original optimization problem. The continuous greedy algorithm runs as follows:  \n",
    "> Set $K=9{\\rm rank}^2(\\mathcal{M})$ and $x_1=0$.  \n",
    "> for all $k=1,\\dots,K$:\n",
    "\n",
    ">> Compute $v_k=arg\\max_{x\\in P(\\mathcal{M})}\\langle \\nabla f(x_k),x \\rangle$.  \n",
    ">> Set $x_{k+1}=x_k+\\frac{1}{K}v_k$.  \n",
    "\n",
    "> end for     \n",
    "> Ouptut $x_{K+1}$.    \n",
    "\n",
    "For all $k\\in [K]$, the optimization problem for computing $v_k$ is a linear maximization problem over the matroid polytope and therefore, the optimal point $v_k$ is always a vertex of the polytope, i.e., an independent set of the matroid $\\mathcal{M}$ (according to the definition of the matroid polytope as the convex hull of independent sets of the matroid). Also, we can use the definition of the multilinear extension function and write:\n",
    "$$\n",
    "\\nabla_i f(x_k)=\\mathbb{E}_{R_k\\sim x_k}[f(R_k\\cup \\{i\\})]-\\mathbb{E}_{R_k\\sim x_k}[f(R_k\\setminus \\{i\\})].\n",
    "$$\n",
    "In many cases, the multilinear extension has a closed form (e.g., the example in [Multilinear Extension](#MlE)) and it is easy to compute the gradient. However, for more general cases, we can take the average of sufficient number of independent samples of $R_k$ to compute an accurate estimate of the gradient with high probability."
   ]
  },
  {
   "cell_type": "markdown",
   "metadata": {},
   "source": [
    "#### Implementation\n",
    "We implement the continuous greedy algorithm on the *submodular welfare maximization problem* introduced below:\n",
    "\n",
    "We are given a set of $m$ items $X$ and $n$ players each with a separate monotone submodular utility function $f_i$. The goal is to partition the items $X$ into disjoint subsets $S_1,\\dots,S_n$ to maximize the social welfare $\\sum_{i=1}^n f_i(S_i)$. We first show that this problem could be reformulated as a monotone submodular maximization problem subject to a matroid constraint. Define $V=\\{1,\\dots,n\\}\\times X$ and for each player $i\\in[n]$, let $\\pi_i:2^V\\to 2^X$ be the mapping $\\pi_i(S)=\\{j\\in X:(i,j)\\in S\\}$. The submodular welfare problem is equivalent to finding $S=\\cup_{i=1}^n(\\{i\\}\\times S_i)\\subseteq V$, where $S_1,\\dots,S_n$ are disjoint, so that $\\sum_{i=1}^n f_i(\\pi_i(S))=\\sum_{i=1}^n f_i(S_i)$ is maximized. The disjoint partition condition could be rewritten as a special matroid constraint called the *partition matroid* over $V$ with the following independent sets:\n",
    "$$\n",
    "\\mathcal{I}=\\{S\\subseteq V:|S\\cap X_j|\\leq 1~\\forall j\\in[m]\\},\n",
    "$$\n",
    "where $X_j=\\{1,\\dots,n\\}\\times\\{j\\}$. Rank of this partition matroid is $m=|X|$.   \n",
    "For all $i\\in[n]$, we define $f_i(x)=c_i^Tx+\\frac{1}{2}x^TA_ix$ for $x\\in [0,1]^m$ where $A_i$ is an entry-wise non-positive matrix and $c_i$ is element-wise positive. It is easy to see that the multilinear extension $F_i$ has the exact same form as well. The quadratic term in the objective function is used to penalize similarity between the allocated items to a certain player."
   ]
  },
  {
   "cell_type": "code",
   "execution_count": 4,
   "metadata": {},
   "outputs": [],
   "source": [
    "m=10\n",
    "n=5\n",
    "K=9*(m)**2\n",
    "A1=np.zeros((m,m))\n",
    "c1=[randint(10,16) for s in range(m)]\n",
    "A1[:3,:3]=np.random.uniform(-2,0,(3,3))\n",
    "A1[3:7,3:7]=np.random.uniform(-2,0,(4,4))\n",
    "A1[7:,7:]=np.random.uniform(-2,0,(3,3))\n",
    "A1=(A1+A1.T)/2\n",
    "A2=np.zeros((m,m))\n",
    "c2=[randint(10,16) for s in range(m)]\n",
    "A2[:5,:5]=np.random.uniform(-2,0,(5,5))\n",
    "A2[5:,5:]=np.random.uniform(-2,0,(5,5))\n",
    "A2=(A2+A2.T)/2\n",
    "A3=np.zeros((m,m))\n",
    "c3=[randint(11,16) for s in range(m)]\n",
    "A3[3:5,3:5]=np.random.uniform(-5,0,(2,2))\n",
    "A3[6:8,6:8]=np.random.uniform(-5,0,(2,2))\n",
    "A3=(A3+A3.T)/2\n",
    "A4=np.zeros((m,m))\n",
    "c4=[randint(12,16) for s in range(m)]\n",
    "A4[2:7,2:7]=np.random.uniform(-3,0,(5,5))\n",
    "A4=(A4+A4.T)/2\n",
    "A5=np.zeros((m,m))\n",
    "c5=[randint(11,16) for s in range(m)]\n",
    "A5[1:4,1:4]=np.random.uniform(-2,0,(3,3))\n",
    "A5[5:9,5:9]=np.random.uniform(-2,0,(4,4))\n",
    "A5=(A5+A5.T)/2\n",
    "for i in range(m):\n",
    "    A1[i,i]=0\n",
    "    A2[i,i]=0\n",
    "    A3[i,i]=0\n",
    "    A4[i,i]=0\n",
    "    A5[i,i]=0\n",
    "def f1(x):\n",
    "    return np.dot(c1,x)+np.dot(0.5*x.T,np.dot(A1,x))\n",
    "def grad1(x):\n",
    "    return c1+np.dot(A1,x)\n",
    "def f2(x):\n",
    "    return np.dot(c2,x)+np.dot(0.5*x.T,np.dot(A2,x))\n",
    "def grad2(x):\n",
    "    return c2+np.dot(A2,x)\n",
    "def f3(x):\n",
    "    return np.dot(c3,x)+np.dot(0.5*x.T,np.dot(A3,x))\n",
    "def grad3(x):\n",
    "    return c3+np.dot(A3,x)\n",
    "def f4(x):\n",
    "    return np.dot(c4,x)+np.dot(0.5*x.T,np.dot(A4,x))\n",
    "def grad4(x):\n",
    "    return c4+np.dot(A4,x)\n",
    "def f5(x):\n",
    "    return np.dot(c5,x)+np.dot(0.5*x.T,np.dot(A5,x))\n",
    "def grad5(x):\n",
    "    return c5+np.dot(A5,x)\n"
   ]
  },
  {
   "cell_type": "code",
   "execution_count": 5,
   "metadata": {},
   "outputs": [],
   "source": [
    "x=np.zeros((n,m))\n",
    "g=np.zeros((n,m))\n",
    "val=np.zeros(K)\n",
    "for k in range(K):\n",
    "        g[0,:]=grad1(x[0,:])\n",
    "        g[1,:]=grad2(x[1,:])\n",
    "        g[2,:]=grad3(x[2,:])\n",
    "        g[3,:]=grad4(x[3,:])\n",
    "        g[4,:]=grad5(x[4,:])\n",
    "        for j in range(m):\n",
    "                ind=np.argmax(g[:,j])\n",
    "                x[ind,j]+=(1/K)\n",
    "        val[k]=f1(x[0,:])+f2(x[1,:])+f3(x[2,:])+f4(x[3,:])+f5(x[4,:])"
   ]
  },
  {
   "cell_type": "code",
   "execution_count": 6,
   "metadata": {},
   "outputs": [
    {
     "data": {
      "text/plain": [
       "Text(0, 0.5, '$F_i(x_i)$')"
      ]
     },
     "execution_count": 6,
     "metadata": {},
     "output_type": "execute_result"
    },
    {
     "data": {
      "image/png": "[encoded data removed]",
      "text/plain": [
       "<Figure size 432x288 with 1 Axes>"
      ]
     },
     "metadata": {
      "needs_background": "light"
     },
     "output_type": "display_data"
    }
   ],
   "source": [
    "plt.bar(range(1,n+1),[f1(x[0,:]),f2(x[1,:]),f3(x[2,:]),f4(x[3,:]),f5(x[4,:])])\n",
    "plt.xticks([1,2,3,4,5])\n",
    "plt.xlabel('$i$')\n",
    "plt.ylabel('$F_i(x_i)$')"
   ]
  }
 ],
 "metadata": {
  "interpreter": {
   "hash": "3b463f7bd1fd6119d6f8266cef2d14fb8bb1c97daa917c19ceb3e4b0b8c0d6fa"
  },
  "kernelspec": {
   "display_name": "Python 3.9.0 64-bit",
   "name": "python3"
  },
  "language_info": {
   "codemirror_mode": {
    "name": "ipython",
    "version": 3
   },
   "file_extension": ".py",
   "mimetype": "text/x-python",
   "name": "python",
   "nbconvert_exporter": "python",
   "pygments_lexer": "ipython3",
   "version": "3.9.0"
  },
  "orig_nbformat": 4
 },
 "nbformat": 4,
 "nbformat_minor": 2
}
